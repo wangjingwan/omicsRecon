{
 "cells": [
  {
   "cell_type": "code",
   "execution_count": 1,
   "metadata": {},
   "outputs": [],
   "source": [
    "import numpy as np\n",
    "import pandas as pd\n",
    "import sys\n",
    "import os\n",
    "script_path = '../omicsRecon/'\n",
    "sys.path.append(script_path)\n",
    "import omics_recon"
   ]
  },
  {
   "attachments": {},
   "cell_type": "markdown",
   "metadata": {},
   "source": [
    "# 1. spatial reconstruction of single-omics"
   ]
  },
  {
   "cell_type": "code",
   "execution_count": 2,
   "metadata": {},
   "outputs": [],
   "source": [
    "dataform = 'atac'\n",
    "pred_method = 'signac'\n",
    "inputDir = '/data6/wangjingwan/0.omics/3.tonsil/2.atac/1.input/'\n",
    "# ATAC_rds = f'{inputDir}/tonsil_atlas_multiome_processed.rds'\n",
    "ATAC_rds = f'{inputDir}/human_tonsil_subset.rds'\n",
    "species = 'human' # or 'mouse'\n",
    "Rscript_path = '/apps/software/R/4.2.0-foss-2021b/bin/Rscript'\n",
    "outDir = f'{inputDir}/../subset/'\n",
    "if not os.path.exists(outDir):\n",
    "    os.mkdir(outDir)"
   ]
  },
  {
   "cell_type": "code",
   "execution_count": 3,
   "metadata": {},
   "outputs": [],
   "source": [
    "obj = omics_recon.omicsRecon()"
   ]
  },
  {
   "cell_type": "code",
   "execution_count": 4,
   "metadata": {},
   "outputs": [
    {
     "name": "stderr",
     "output_type": "stream",
     "text": [
      "\u001b[1;2;31mflexiblas Failed to load /apps/software/FlexiBLAS/3.0.4-GCC-11.2.0/lib/flexiblas//libflexiblas_openblas.so - error: libopenblas.so.0: cannot open shared object file: No such file or directory \n",
      "\u001b[0m<flexiblas> No suitable BLAS backend could be loaded. Trying Fallback instead.\n"
     ]
    }
   ],
   "source": [
    "pred_rna = obj.pred.atac2RNA(pred_method = pred_method, species = 'human', Rscript_path = Rscript_path, outDir = outDir,\n",
    "            ATAC_rds = ATAC_rds)"
   ]
  },
  {
   "cell_type": "markdown",
   "metadata": {},
   "source": [
    "for 10X multiome case (simultaneous RNA and ATAC), we can evaluate the prediction performance of ATAC2RNA\n"
   ]
  },
  {
   "cell_type": "code",
   "execution_count": 9,
   "metadata": {},
   "outputs": [],
   "source": [
    "true_rna = pd.read_csv(f'{inputDir}/human_tonsil_RNA_subset.tsv',header=0, index_col = 0, sep = '\\t')\n",
    "sc_meta = pd.read_csv(f'{inputDir}/human_tonsil_meta_subset.tsv',header=0, index_col = 0, sep = '\\t')"
   ]
  },
  {
   "cell_type": "code",
   "execution_count": 40,
   "metadata": {},
   "outputs": [],
   "source": [
    "cor_df = obj.eva.cell_cor(pred_rna,true_rna)\n",
    "obj.pl.boxplot(cor_df, title = 'Pred_true correlation', \n",
    "            y='cor', figsize = (2, 3),\n",
    "            ylabel='Gene correlation')"
   ]
  }
 ],
 "metadata": {
  "kernelspec": {
   "display_name": "scanpy",
   "language": "python",
   "name": "python3"
  },
  "language_info": {
   "codemirror_mode": {
    "name": "ipython",
    "version": 3
   },
   "file_extension": ".py",
   "mimetype": "text/x-python",
   "name": "python",
   "nbconvert_exporter": "python",
   "pygments_lexer": "ipython3",
   "version": "3.8.10"
  },
  "orig_nbformat": 4
 },
 "nbformat": 4,
 "nbformat_minor": 2
}
