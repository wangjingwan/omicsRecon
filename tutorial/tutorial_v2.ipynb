{
 "cells": [
  {
   "cell_type": "code",
   "execution_count": 1,
   "metadata": {},
   "outputs": [
    {
     "name": "stderr",
     "output_type": "stream",
     "text": [
      "/home/wangjingwan/.local/lib/python3.9/site-packages/seaborn/utils.py:10: UserWarning: A NumPy version >=1.22.4 and <1.29.0 is required for this version of SciPy (detected version 1.22.0)\n",
      "  from scipy import stats\n"
     ]
    }
   ],
   "source": [
    "import numpy as np\n",
    "import pandas as pd\n",
    "import sys\n",
    "import os\n",
    "script_path = '../omics_recon/'\n",
    "sys.path.append(script_path)\n",
    "import omics_recon"
   ]
  },
  {
   "attachments": {},
   "cell_type": "markdown",
   "metadata": {},
   "source": [
    "# 1. spatial reconstruction of single-omics"
   ]
  },
  {
   "cell_type": "code",
   "execution_count": 2,
   "metadata": {},
   "outputs": [],
   "source": [
    "# rds + signac\n",
    "dataform = 'atac'\n",
    "pred_method = 'signac'\n",
    "inputDir = '/data6/wangjingwan/0.omics/3.tonsil/2.atac/1.input/'\n",
    "# ATAC_rds = f'{inputDir}/tonsil_atlas_multiome_processed.rds'\n",
    "ATAC_rds = f'{inputDir}/human_tonsil_subset.rds'\n",
    "species = 'human' # or 'mouse'\n",
    "Rscript_path = '/apps/software/R/4.2.0-foss-2021b/bin/Rscript'\n",
    "outDir = f'{inputDir}/../subset/'\n",
    "if not os.path.exists(outDir):\n",
    "    os.mkdir(outDir)\n",
    "\n",
    "obj = omics_recon.omicsRecon()\n",
    "pred_rna = obj.pred.atac2RNA(pred_method = pred_method, species = 'human', Rscript_path = Rscript_path, outDir = outDir,\n",
    "            ATAC_rds = ATAC_rds)"
   ]
  },
  {
   "cell_type": "code",
   "execution_count": 3,
   "metadata": {},
   "outputs": [],
   "source": []
  },
  {
   "cell_type": "code",
   "execution_count": 3,
   "metadata": {},
   "outputs": [
    {
     "name": "stderr",
     "output_type": "stream",
     "text": [
      "\u001b[1;2;31mflexiblas Failed to load /apps/software/FlexiBLAS/3.0.4-GCC-11.2.0/lib/flexiblas//libflexiblas_openblas.so - error: libopenblas.so.0: cannot open shared object file: No such file or directory \n",
      "\u001b[0m<flexiblas> No suitable BLAS backend could be loaded. Trying Fallback instead.\n",
      "Setting default number of Parallel threads to 1.\n",
      "BSgenome for hg38 not installed! Now installing by the following:\n",
      "\tBiocManager::install(\"BSgenome.Hsapiens.UCSC.hg38\")\n",
      "Bioconductor version 3.16 (BiocManager 1.30.20), R 4.2.0 (2022-04-22)\n",
      "Installing package(s) 'BSgenome.Hsapiens.UCSC.hg38'\n",
      "trying URL 'https://bioconductor.org/packages/3.16/data/annotation/src/contrib/BSgenome.Hsapiens.UCSC.hg38_1.4.5.tar.gz'\n",
      "Content type 'application/gzip' length 731245539 bytes (697.4 MB)\n"
     ]
    }
   ],
   "source": [
    "# rds + signac\n",
    "dataform = 'atac'\n",
    "pred_method = 'archr'\n",
    "inputDir = '/data6/wangjingwan/0.omics/3.tonsil/2.atac/1.input/'\n",
    "# ATAC_rds = f'{inputDir}/tonsil_atlas_multiome_processed.rds'\n",
    "frag_path = f'{inputDir}/fragments_files/admae8w2_89i88tvv_atac_fragments_with_prefix.tsv.gz'\n",
    "species = 'human' # or 'mouse'\n",
    "Rscript_path = '/apps/software/R/4.2.0-foss-2021b/bin/Rscript'\n",
    "outDir = '/data6/wangjingwan/0.omics/3.tonsil/2.atac/2.output/'\n",
    "if not os.path.exists(outDir):\n",
    "    os.mkdir(outDir)\n",
    "\n",
    "obj = omics_recon.omicsRecon()\n",
    "pred_rna = obj.pred.atac2RNA(pred_method = pred_method, species = 'human', Rscript_path = Rscript_path, outDir = outDir,\n",
    "            fragment = frag_path)"
   ]
  },
  {
   "cell_type": "markdown",
   "metadata": {},
   "source": [
    "for 10X multiome case (simultaneous RNA and ATAC), we can evaluate the prediction performance of ATAC2RNA\n"
   ]
  },
  {
   "cell_type": "code",
   "execution_count": 9,
   "metadata": {},
   "outputs": [],
   "source": [
    "true_rna = pd.read_csv(f'{inputDir}/human_tonsil_RNA_subset.tsv',header=0, index_col = 0, sep = '\\t')\n",
    "sc_meta = pd.read_csv(f'{inputDir}/human_tonsil_meta_subset.tsv',header=0, index_col = 0, sep = '\\t')"
   ]
  },
  {
   "cell_type": "code",
   "execution_count": 40,
   "metadata": {},
   "outputs": [],
   "source": [
    "cor_df = obj.eva.cell_cor(pred_rna,true_rna)\n",
    "obj.pl.boxplot(cor_df, title = 'Pred_true correlation', \n",
    "            y='cor', figsize = (2, 3),\n",
    "            ylabel='Gene correlation')"
   ]
  }
 ],
 "metadata": {
  "kernelspec": {
   "display_name": "scanpy",
   "language": "python",
   "name": "python3"
  },
  "language_info": {
   "codemirror_mode": {
    "name": "ipython",
    "version": 3
   },
   "file_extension": ".py",
   "mimetype": "text/x-python",
   "name": "python",
   "nbconvert_exporter": "python",
   "pygments_lexer": "ipython3",
   "version": "3.9.12"
  },
  "orig_nbformat": 4
 },
 "nbformat": 4,
 "nbformat_minor": 2
}
