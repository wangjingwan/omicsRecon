{
 "cells": [
  {
   "cell_type": "code",
   "execution_count": 1,
   "metadata": {},
   "outputs": [],
   "source": [
    "import numpy as np\n",
    "import pandas as pd\n",
    "import sys\n",
    "import os"
   ]
  },
  {
   "cell_type": "code",
   "execution_count": 2,
   "metadata": {},
   "outputs": [],
   "source": [
    "script_path = '../src/runScripts/'\n",
    "sys.path.append(script_path)"
   ]
  },
  {
   "cell_type": "code",
   "execution_count": 5,
   "metadata": {},
   "outputs": [],
   "source": [
    "import omics2RNA"
   ]
  },
  {
   "cell_type": "code",
   "execution_count": 6,
   "metadata": {},
   "outputs": [],
   "source": [
    "dataform = 'atac'\n",
    "method = 'seurat'"
   ]
  },
  {
   "cell_type": "code",
   "execution_count": 7,
   "metadata": {},
   "outputs": [],
   "source": [
    "inputDir = './examples/ATAC/10X_human_brain/'\n",
    "h5_path = f'{inputDir}/human_brain_3k_filtered_feature_bc_matrix.h5'\n",
    "frag_path = f'{inputDir}/human_brain_3k_atac_fragments.tsv.gz'\n",
    "species = 'human' # or 'mouse'\n",
    "\n",
    "outDir = f'{inputDir}/results/'\n",
    "if not os.path.exists(outDir):\n",
    "    os.mkdir(outDir)\n",
    "obj = omics2RNA.OmicsToRNA(h5_path, frag_path, outDir, species)\n",
    "Result = obj.transform(dataform, method)"
   ]
  }
 ],
 "metadata": {
  "kernelspec": {
   "display_name": "scanpy",
   "language": "python",
   "name": "python3"
  },
  "language_info": {
   "codemirror_mode": {
    "name": "ipython",
    "version": 3
   },
   "file_extension": ".py",
   "mimetype": "text/x-python",
   "name": "python",
   "nbconvert_exporter": "python",
   "pygments_lexer": "ipython3",
   "version": "3.9.12"
  },
  "orig_nbformat": 4
 },
 "nbformat": 4,
 "nbformat_minor": 2
}
