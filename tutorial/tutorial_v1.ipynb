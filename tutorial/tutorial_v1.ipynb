{
 "cells": [
  {
   "cell_type": "code",
   "execution_count": 1,
   "metadata": {},
   "outputs": [],
   "source": [
    "import numpy as np\n",
    "import pandas as pd\n",
    "import sys\n",
    "import os"
   ]
  },
  {
   "cell_type": "code",
   "execution_count": 2,
   "metadata": {},
   "outputs": [],
   "source": [
    "script_path = '../src/runScripts/'\n",
    "sys.path.append(script_path)"
   ]
  },
  {
   "cell_type": "code",
   "execution_count": 5,
   "metadata": {},
   "outputs": [],
   "source": [
    "import omics2RNA"
   ]
  },
  {
   "attachments": {},
   "cell_type": "markdown",
   "metadata": {},
   "source": [
    "# 1. spatial reconstruction of single-omics"
   ]
  },
  {
   "attachments": {},
   "cell_type": "markdown",
   "metadata": {},
   "source": [
    "### 1.1.transform to pred.RNA"
   ]
  },
  {
   "cell_type": "code",
   "execution_count": 7,
   "metadata": {},
   "outputs": [],
   "source": [
    "### ATAC ###\n",
    "dataform = 'atac'\n",
    "method = 'seurat'\n",
    "inputDir = './examples/ATAC/10X_human_brain/'\n",
    "h5_path = f'{inputDir}/human_brain_3k_filtered_feature_bc_matrix.h5'\n",
    "frag_path = f'{inputDir}/human_brain_3k_atac_fragments.tsv.gz'\n",
    "species = 'human' # or 'mouse'\n",
    "\n",
    "outDir = f'{inputDir}/results/'\n",
    "if not os.path.exists(outDir):\n",
    "    os.mkdir(outDir)\n",
    "obj = omics2RNA.OmicsToRNA(h5_path, frag_path, outDir, species)\n",
    "pred_rna_loc = obj.transform(dataform, method)\n",
    "# \n",
    "eva_res = obj.evaluate(pred_rna_loc,  dataform, method)\n",
    "\n",
    "sc_coord = obj.reconstruction(sc_loc = pred_rna_loc, st_exp = st_exp_loc, \n",
    "                              recon_method = 'SPROUT', species = species)"
   ]
  },
  {
   "cell_type": "code",
   "execution_count": null,
   "metadata": {},
   "outputs": [],
   "source": [
    "### Methyl ###\n",
    "dataform = 'methy'\n",
    "method = 'dl'\n",
    "inputDir = './examples/methy/input/'\n",
    "train_methy_path = f'{inputDir}/NMT_DNAMeth.csv'\n",
    "train_rna_path = f'{inputDir}/NMT_RNASeq.csv'\n",
    "test_methy_path = f'{inputDir}/EB_DNAMeth.csv'\n",
    "test_rna_path = f'{inputDir}/EB_RNASeq.csv' # optional\n",
    "sc_meta_path = f'{inputDir}/NMT_meta.tsv' \n",
    "tp_key = 'ensembl'\n",
    "\n",
    "outDir = f'{inputDir}/results/'\n",
    "if not os.path.exists(outDir):\n",
    "    os.mkdir(outDir)\n",
    "obj = omics2RNA.OmicsToRNA(train_methy = train_methy_path, train_rna = train_rna_path, \n",
    "                           test_methy = test_methy_path, test_rna = test_rna_path,\n",
    "                           celltype_file = sc_meta_path, celltype_key = tp_key,\n",
    "                           outDir = outDir)\n",
    "Result = obj.transform(dataform, method)"
   ]
  }
 ],
 "metadata": {
  "kernelspec": {
   "display_name": "scanpy",
   "language": "python",
   "name": "python3"
  },
  "language_info": {
   "codemirror_mode": {
    "name": "ipython",
    "version": 3
   },
   "file_extension": ".py",
   "mimetype": "text/x-python",
   "name": "python",
   "nbconvert_exporter": "python",
   "pygments_lexer": "ipython3",
   "version": "3.9.12"
  },
  "orig_nbformat": 4
 },
 "nbformat": 4,
 "nbformat_minor": 2
}
